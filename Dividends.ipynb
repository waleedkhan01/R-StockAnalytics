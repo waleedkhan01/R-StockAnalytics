{
 "cells": [
  {
   "cell_type": "markdown",
   "metadata": {},
   "source": [
    "# Stock Analytics in R - Correlation and Dividends\n",
    "### Calculating correlation coefficients and dividends for stocks based on CSV Stock Data for the time period of Jan 01, 2018 to Dec 31, 2018"
   ]
  },
  {
   "cell_type": "markdown",
   "metadata": {},
   "source": [
    "### CSV File Sources:\n",
    "##### IBM : (https://finance.yahoo.com/quote/IBM/history?period1=1514782800&period2=1546232400&interval=1d&filter=history&frequency=1d)\n",
    "##### GOOG: (https://finance.yahoo.com/quote/goog/history?period1=1514782800&period2=1546232400&interval=1d&filter=history&frequency=1d)\n",
    "##### FB: (https://finance.yahoo.com/quote/fb/history?period1=1514782800&period2=1546232400&interval=1d&filter=history&frequency=1d)\n",
    "##### AMZN: (https://finance.yahoo.com/quote/amzn/history?period1=1514782800&period2=1546232400&interval=1d&filter=history&frequency=1d)\n",
    "##### MSFT: (https://finance.yahoo.com/quote/msft/history?period1=1514782800&period2=1546232400&interval=1d&filter=history&frequency=1d)\n",
    "##### AAPL: (https://finance.yahoo.com/quote/aapl/history?period1=1514782800&period2=1546232400&interval=1d&filter=history&frequency=1d)"
   ]
  },
  {
   "cell_type": "markdown",
   "metadata": {},
   "source": [
    "## Part 1: Correlation \n",
    "### Calculate correlation coefficients of stocks from Jan 01, 2018 to Dec 31, 2018"
   ]
  },
  {
   "cell_type": "code",
   "execution_count": 1,
   "metadata": {},
   "outputs": [
    {
     "data": {
      "text/html": [
       "<table>\n",
       "<thead><tr><th></th><th scope=col>Correlation Coefficient</th></tr></thead>\n",
       "<tbody>\n",
       "\t<tr><th scope=row>IBM:GOOG</th><td>0.4224398</td></tr>\n",
       "</tbody>\n",
       "</table>\n"
      ],
      "text/latex": [
       "\\begin{tabular}{r|l}\n",
       "  & Correlation Coefficient\\\\\n",
       "\\hline\n",
       "\tIBM:GOOG & 0.4224398\\\\\n",
       "\\end{tabular}\n"
      ],
      "text/markdown": [
       "\n",
       "| <!--/--> | Correlation Coefficient |\n",
       "|---|---|\n",
       "| IBM:GOOG | 0.4224398 |\n",
       "\n"
      ],
      "text/plain": [
       "         Correlation Coefficient\n",
       "IBM:GOOG 0.4224398              "
      ]
     },
     "metadata": {},
     "output_type": "display_data"
    }
   ],
   "source": [
    "ibmData=read.csv(\"ibm.csv\")\n",
    "googData=read.csv(\"goog.csv\")\n",
    "fbData=read.csv(\"fb.csv\")\n",
    "amznData=read.csv(\"amzn.csv\")\n",
    "msftData=read.csv(\"msft.csv\")\n",
    "aaplData=read.csv(\"aapl.csv\")\n",
    "\n",
    "ibm=ibmData['Adj.Close']\n",
    "goog=googData['Adj.Close']\n",
    "fb=fbData['Adj.Close']\n",
    "amzn=amznData['Adj.Close']\n",
    "msft=msftData['Adj.Close']\n",
    "aapl=aaplData['Adj.Close']\n",
    "\n",
    "result = cor(ibm,goog)\n",
    "rownames(result) = \"IBM:GOOG\"\n",
    "colnames(result) = \"Correlation Coefficient\"\n",
    "result\n",
    "#Successfully calculating correlation between ibm and google"
   ]
  },
  {
   "cell_type": "code",
   "execution_count": 2,
   "metadata": {},
   "outputs": [
    {
     "data": {
      "text/html": [
       "<table>\n",
       "<thead><tr><th></th><th scope=col>Companies</th><th scope=col>Correlation</th></tr></thead>\n",
       "<tbody>\n",
       "\t<tr><th scope=row>13</th><td>AMZN:MSFT          </td><td>0.874170910710206  </td></tr>\n",
       "\t<tr><th scope=row>14</th><td>AMZN:AAPL          </td><td>0.840504796268471  </td></tr>\n",
       "\t<tr><th scope=row>15</th><td>MSFT:AAPL          </td><td>0.791072471018527  </td></tr>\n",
       "\t<tr><th scope=row>7</th><td>GOOG:AMZN          </td><td>0.659391865199105  </td></tr>\n",
       "\t<tr><th scope=row>2</th><td>IBM:FB             </td><td>0.623531550685212  </td></tr>\n",
       "\t<tr><th scope=row>9</th><td>GOOG:AAPL          </td><td>0.583137312682347  </td></tr>\n",
       "\t<tr><th scope=row>6</th><td>GOOG:FB            </td><td>0.52556430217358   </td></tr>\n",
       "\t<tr><th scope=row>8</th><td>GOOG:MSFT          </td><td>0.463316436329576  </td></tr>\n",
       "\t<tr><th scope=row>1</th><td>IBM:GOOG           </td><td>0.422439786563827  </td></tr>\n",
       "\t<tr><th scope=row>10</th><td>FB:AMZN            </td><td>0.0480459296646206 </td></tr>\n",
       "\t<tr><th scope=row>4</th><td>IBM:MSFT           </td><td>-0.421255197814042 </td></tr>\n",
       "\t<tr><th scope=row>11</th><td>FB:MSFT            </td><td>-0.295249519238321 </td></tr>\n",
       "\t<tr><th scope=row>3</th><td>IBM:AMZN           </td><td>-0.101701318341634 </td></tr>\n",
       "\t<tr><th scope=row>12</th><td>FB:AAPL            </td><td>-0.0387168682314064</td></tr>\n",
       "\t<tr><th scope=row>5</th><td>IBM:AAPL           </td><td>-0.0247187539727987</td></tr>\n",
       "</tbody>\n",
       "</table>\n"
      ],
      "text/latex": [
       "\\begin{tabular}{r|ll}\n",
       "  & Companies & Correlation\\\\\n",
       "\\hline\n",
       "\t13 & AMZN:MSFT           & 0.874170910710206  \\\\\n",
       "\t14 & AMZN:AAPL           & 0.840504796268471  \\\\\n",
       "\t15 & MSFT:AAPL           & 0.791072471018527  \\\\\n",
       "\t7 & GOOG:AMZN           & 0.659391865199105  \\\\\n",
       "\t2 & IBM:FB              & 0.623531550685212  \\\\\n",
       "\t9 & GOOG:AAPL           & 0.583137312682347  \\\\\n",
       "\t6 & GOOG:FB             & 0.52556430217358   \\\\\n",
       "\t8 & GOOG:MSFT           & 0.463316436329576  \\\\\n",
       "\t1 & IBM:GOOG            & 0.422439786563827  \\\\\n",
       "\t10 & FB:AMZN             & 0.0480459296646206 \\\\\n",
       "\t4 & IBM:MSFT            & -0.421255197814042 \\\\\n",
       "\t11 & FB:MSFT             & -0.295249519238321 \\\\\n",
       "\t3 & IBM:AMZN            & -0.101701318341634 \\\\\n",
       "\t12 & FB:AAPL             & -0.0387168682314064\\\\\n",
       "\t5 & IBM:AAPL            & -0.0247187539727987\\\\\n",
       "\\end{tabular}\n"
      ],
      "text/markdown": [
       "\n",
       "| <!--/--> | Companies | Correlation |\n",
       "|---|---|---|\n",
       "| 13 | AMZN:MSFT           | 0.874170910710206   |\n",
       "| 14 | AMZN:AAPL           | 0.840504796268471   |\n",
       "| 15 | MSFT:AAPL           | 0.791072471018527   |\n",
       "| 7 | GOOG:AMZN           | 0.659391865199105   |\n",
       "| 2 | IBM:FB              | 0.623531550685212   |\n",
       "| 9 | GOOG:AAPL           | 0.583137312682347   |\n",
       "| 6 | GOOG:FB             | 0.52556430217358    |\n",
       "| 8 | GOOG:MSFT           | 0.463316436329576   |\n",
       "| 1 | IBM:GOOG            | 0.422439786563827   |\n",
       "| 10 | FB:AMZN             | 0.0480459296646206  |\n",
       "| 4 | IBM:MSFT            | -0.421255197814042  |\n",
       "| 11 | FB:MSFT             | -0.295249519238321  |\n",
       "| 3 | IBM:AMZN            | -0.101701318341634  |\n",
       "| 12 | FB:AAPL             | -0.0387168682314064 |\n",
       "| 5 | IBM:AAPL            | -0.0247187539727987 |\n",
       "\n"
      ],
      "text/plain": [
       "   Companies Correlation        \n",
       "13 AMZN:MSFT 0.874170910710206  \n",
       "14 AMZN:AAPL 0.840504796268471  \n",
       "15 MSFT:AAPL 0.791072471018527  \n",
       "7  GOOG:AMZN 0.659391865199105  \n",
       "2  IBM:FB    0.623531550685212  \n",
       "9  GOOG:AAPL 0.583137312682347  \n",
       "6  GOOG:FB   0.52556430217358   \n",
       "8  GOOG:MSFT 0.463316436329576  \n",
       "1  IBM:GOOG  0.422439786563827  \n",
       "10 FB:AMZN   0.0480459296646206 \n",
       "4  IBM:MSFT  -0.421255197814042 \n",
       "11 FB:MSFT   -0.295249519238321 \n",
       "3  IBM:AMZN  -0.101701318341634 \n",
       "12 FB:AAPL   -0.0387168682314064\n",
       "5  IBM:AAPL  -0.0247187539727987"
      ]
     },
     "metadata": {},
     "output_type": "display_data"
    }
   ],
   "source": [
    "#Correlations for all\n",
    "\n",
    "correlationNames = c(\"IBM:GOOG\",\"IBM:FB\",\"IBM:AMZN\",\"IBM:MSFT\",\"IBM:AAPL\",\"GOOG:FB\",\"GOOG:AMZN\",\"GOOG:MSFT\", \n",
    "                     \"GOOG:AAPL\",\"FB:AMZN\",\"FB:MSFT\",\"FB:AAPL\",\"AMZN:MSFT\",\"AMZN:AAPL\",\"MSFT:AAPL\")\n",
    "coefficients = c(cor(ibm,goog),cor(ibm,fb),cor(ibm,amzn),cor(ibm,msft),cor(ibm,aapl),cor(goog,fb),cor(goog,amzn)\n",
    "                ,cor(goog,msft),cor(goog,aapl),cor(fb,amzn),cor(fb,msft),cor(fb,aapl),cor(amzn,msft),cor(amzn,aapl)\n",
    "                ,cor(msft,aapl))\n",
    "corr = data.frame(cbind(Companies=c(correlationNames), Correlation=c(coefficients)))\n",
    "corr = corr[order(corr$Correlation,decreasing=TRUE),]\n",
    "corr"
   ]
  },
  {
   "cell_type": "markdown",
   "metadata": {},
   "source": [
    "## Part 2: Dividend Calculation \n",
    "### Determining dates of dividends based on fluctuation in Close and Adj Close values of stock\n",
    "#### (Summary for Part 2 can be found at the bottom of this notebook)"
   ]
  },
  {
   "cell_type": "code",
   "execution_count": 3,
   "metadata": {
    "scrolled": false
   },
   "outputs": [
    {
     "name": "stdout",
     "output_type": "stream",
     "text": [
      "\n",
      "Dates and Dividends for IBM:\n"
     ]
    },
    {
     "data": {
      "text/html": [
       "<table>\n",
       "<thead><tr><th scope=col>Dates</th><th scope=col>Dividends</th></tr></thead>\n",
       "<tbody>\n",
       "\t<tr><td>2018-02-08</td><td>1.57      </td></tr>\n",
       "\t<tr><td>2018-05-09</td><td>1.70      </td></tr>\n",
       "\t<tr><td>2018-08-09</td><td>1.67      </td></tr>\n",
       "\t<tr><td>2018-11-08</td><td>1.96      </td></tr>\n",
       "</tbody>\n",
       "</table>\n"
      ],
      "text/latex": [
       "\\begin{tabular}{r|ll}\n",
       " Dates & Dividends\\\\\n",
       "\\hline\n",
       "\t 2018-02-08 & 1.57      \\\\\n",
       "\t 2018-05-09 & 1.70      \\\\\n",
       "\t 2018-08-09 & 1.67      \\\\\n",
       "\t 2018-11-08 & 1.96      \\\\\n",
       "\\end{tabular}\n"
      ],
      "text/markdown": [
       "\n",
       "| Dates | Dividends |\n",
       "|---|---|\n",
       "| 2018-02-08 | 1.57       |\n",
       "| 2018-05-09 | 1.70       |\n",
       "| 2018-08-09 | 1.67       |\n",
       "| 2018-11-08 | 1.96       |\n",
       "\n"
      ],
      "text/plain": [
       "  Dates      Dividends\n",
       "1 2018-02-08 1.57     \n",
       "2 2018-05-09 1.70     \n",
       "3 2018-08-09 1.67     \n",
       "4 2018-11-08 1.96     "
      ]
     },
     "metadata": {},
     "output_type": "display_data"
    }
   ],
   "source": [
    "#Dates and Dividends for IBM\n",
    "\n",
    "ibmClose = ibmData['Date']\n",
    "ibmClose[] <- lapply(ibmClose, as.character)\n",
    "\n",
    "#adjusted close prices without the last element\n",
    "ibmClose1 = ibmData[['Adj.Close']]\n",
    "ibmClose1 = ibmClose1[(length(ibmClose1) * -1)]\n",
    "\n",
    "#adjusted close prices without the first element\n",
    "ibmClose2 = ibmData[['Adj.Close']]\n",
    "ibmClose2 = ibmClose2[-1]\n",
    "\n",
    "#ratio of adjusted close prices\n",
    "ibmresult1 = ibmClose1/ibmClose2\n",
    "\n",
    "#close prices without the last element\n",
    "ibmClose1 = ibmData[['Close']]\n",
    "ibmClose1 = ibmClose1[(length(ibmClose1) * -1)]\n",
    "\n",
    "#close prices without the first element\n",
    "ibmClose2 = ibmData[['Close']]\n",
    "ibmClose2 = ibmClose2[-1]\n",
    "\n",
    "#ratio of close prices\n",
    "ibmresult2 = ibmClose1/ibmClose2\n",
    "\n",
    "ibmDates = c()\n",
    "ibmDividends = c()\n",
    "for (i in 1:length(ibmresult1)){\n",
    "    diff = ibmresult1[i] - ibmresult2[i]\n",
    "    if(signif(ibmresult1[i], digits=3)!=signif(ibmresult2[i], digits=3)){\n",
    "          ibmDates = c(ibmDates, ibmClose[(i+1),])\n",
    "          dividend = diff * ibmData[['Close']][1]\n",
    "          dividend = abs(signif(dividend, digits = 3))\n",
    "          ibmDividends = c(ibmDividends,dividend)\n",
    "    }\n",
    "}\n",
    "\n",
    "if(length(ibmDividends)==0){\n",
    "    print(\"No Dividends for IBM\")\n",
    "}else{\n",
    "    ibmDividends = data.frame(ibmDates, ibmDividends)\n",
    "    colnames(ibmDividends) = c(\"Dates\",\"Dividends\")\n",
    "\n",
    "    cat(\"\\n\")\n",
    "    cat(\"Dates and Dividends for IBM:\")\n",
    "    cat(\"\\n\")\n",
    "    ibmDividends\n",
    "}"
   ]
  },
  {
   "cell_type": "code",
   "execution_count": 4,
   "metadata": {},
   "outputs": [
    {
     "name": "stdout",
     "output_type": "stream",
     "text": [
      "[1] \"No Dividends for Google\"\n"
     ]
    }
   ],
   "source": [
    "#Dates and Dividends for Google\n",
    "\n",
    "googClose = googData['Date']\n",
    "googClose[] <- lapply(googClose, as.character)\n",
    "\n",
    "#adjusted close prices without the last element\n",
    "googClose1 = googData[['Adj.Close']]\n",
    "googClose1 = googClose1[(length(googClose1) * -1)]\n",
    "\n",
    "#adjusted close prices without the first element\n",
    "googClose2 = googData[['Adj.Close']]\n",
    "googClose2 = googClose2[-1]\n",
    "\n",
    "#ratio of adjusted close prices\n",
    "googresult1 = googClose1/googClose2\n",
    "\n",
    "#close prices without the last element\n",
    "googClose1 = googData[['Close']]\n",
    "googClose1 = googClose1[(length(googClose1) * -1)]\n",
    "\n",
    "#close prices without the first element\n",
    "googClose2 = googData[['Close']]\n",
    "googClose2 = googClose2[-1]\n",
    "\n",
    "#ratio of close prices\n",
    "googresult2 = googClose1/googClose2\n",
    "\n",
    "googDates = c()\n",
    "googDividends = c()\n",
    "for (i in 1:length(googresult1)){\n",
    "    diff = googresult1[i] - googresult2[i]\n",
    "    if(signif(googresult1[i], digits=3)!=signif(googresult2[i], digits=3)){\n",
    "          googDates = c(googDates, googClose[(i+1),])\n",
    "          dividend = diff * googData[['Close']][1]\n",
    "          dividend = abs(signif(dividend, digits = 3))\n",
    "          googDividends = c(googDividends,dividend)\n",
    "    }\n",
    "}\n",
    "\n",
    "if(length(googDividends)==0){\n",
    "    print(\"No Dividends for Google\")\n",
    "}else{\n",
    "    googDividends = data.frame(googDates, googDividends)\n",
    "    colnames(googDividends) = c(\"Dates\",\"Dividends\")\n",
    "\n",
    "    cat(\"\\n\")\n",
    "    cat(\"Dates and Dividends for Google:\")\n",
    "    cat(\"\\n\")\n",
    "    googDividends\n",
    "}"
   ]
  },
  {
   "cell_type": "code",
   "execution_count": 5,
   "metadata": {},
   "outputs": [
    {
     "name": "stdout",
     "output_type": "stream",
     "text": [
      "[1] \"No Dividends for Facebook\"\n"
     ]
    }
   ],
   "source": [
    "#Dates and Dividends for Facebook\n",
    "\n",
    "fbClose = fbData['Date']\n",
    "fbClose[] <- lapply(fbClose, as.character)\n",
    "\n",
    "#adjusted close prices without the last element\n",
    "fbClose1 = fbData[['Adj.Close']]\n",
    "fbClose1 = fbClose1[(length(fbClose1) * -1)]\n",
    "\n",
    "#adjusted close prices without the first element\n",
    "fbClose2 = fbData[['Adj.Close']]\n",
    "fbClose2 = fbClose2[-1]\n",
    "\n",
    "#ratio of adjusted close prices\n",
    "fbresult1 = fbClose1/fbClose2\n",
    "\n",
    "#close prices without the last element\n",
    "fbClose1 = fbData[['Close']]\n",
    "fbClose1 = fbClose1[(length(fbClose1) * -1)]\n",
    "\n",
    "#close prices without the first element\n",
    "fbClose2 = fbData[['Close']]\n",
    "fbClose2 = fbClose2[-1]\n",
    "\n",
    "#ratio of close prices\n",
    "fbresult2 = fbClose1/fbClose2\n",
    "\n",
    "fbDates = c()\n",
    "fbDividends = c()\n",
    "for (i in 1:length(fbresult1)){\n",
    "    diff = fbresult1[i] - fbresult2[i]\n",
    "    if(signif(fbresult1[i], digits=3)!=signif(fbresult2[i], digits=3)){\n",
    "          fbDates = c(fbDates, fbClose[(i+1),])\n",
    "          dividend = diff * fbData[['Close']][1]\n",
    "          dividend = abs(signif(dividend, digits = 3))\n",
    "          fbDividends = c(fbDividends,dividend)\n",
    "    }\n",
    "}\n",
    "\n",
    "if(length(fbDividends)==0){\n",
    "    print(\"No Dividends for Facebook\")\n",
    "}else{\n",
    "    fbDividends = data.frame(fbDates, fbDividends)\n",
    "    colnames(fbDividends) = c(\"Dates\",\"Dividends\")\n",
    "\n",
    "    cat(\"\\n\")\n",
    "    cat(\"Dates and Dividends for Facebook:\")\n",
    "    cat(\"\\n\")\n",
    "    fbDividends\n",
    "}"
   ]
  },
  {
   "cell_type": "code",
   "execution_count": 6,
   "metadata": {},
   "outputs": [
    {
     "name": "stdout",
     "output_type": "stream",
     "text": [
      "[1] \"No Dividends for Amazon\"\n"
     ]
    }
   ],
   "source": [
    "#Dates and Dividends for Amazon\n",
    "\n",
    "amznClose = amznData['Date']\n",
    "amznClose[] <- lapply(amznClose, as.character)\n",
    "\n",
    "#adjusted close prices without the last element\n",
    "amznClose1 = amznData[['Adj.Close']]\n",
    "amznClose1 = amznClose1[(length(amznClose1) * -1)]\n",
    "\n",
    "#adjusted close prices without the first element\n",
    "amznClose2 = amznData[['Adj.Close']]\n",
    "amznClose2 = amznClose2[-1]\n",
    "\n",
    "#ratio of adjusted close prices\n",
    "amznresult1 = amznClose1/amznClose2\n",
    "\n",
    "#close prices without the last element\n",
    "amznClose1 = amznData[['Close']]\n",
    "amznClose1 = amznClose1[(length(amznClose1) * -1)]\n",
    "\n",
    "#close prices without the first element\n",
    "amznClose2 = amznData[['Close']]\n",
    "amznClose2 = amznClose2[-1]\n",
    "\n",
    "#ratio of close prices\n",
    "amznresult2 = amznClose1/amznClose2\n",
    "\n",
    "amznDates = c()\n",
    "amznDividends = c()\n",
    "for (i in 1:length(amznresult1)){\n",
    "    diff = amznresult1[i] - amznresult2[i]\n",
    "    if(signif(amznresult1[i], digits=3)!=signif(amznresult2[i], digits=3)){\n",
    "          amznDates = c(amznDates, amznClose[(i+1),])\n",
    "          dividend = diff * amznData[['Close']][1]\n",
    "          dividend = abs(signif(dividend, digits = 3))\n",
    "          amznDividends = c(amznDividends,dividend)\n",
    "    }\n",
    "}\n",
    "\n",
    "if(length(amznDividends)==0){\n",
    "    print(\"No Dividends for Amazon\")\n",
    "}else{\n",
    "    amznDividends = data.frame(amznDates, amznDividends)\n",
    "    colnames(amznDividends) = c(\"Dates\",\"Dividends\")\n",
    "\n",
    "    cat(\"\\n\")\n",
    "    cat(\"Dates and Dividends for Amazon:\")\n",
    "    cat(\"\\n\")\n",
    "    amznDividends\n",
    "}"
   ]
  },
  {
   "cell_type": "code",
   "execution_count": 7,
   "metadata": {},
   "outputs": [
    {
     "name": "stdout",
     "output_type": "stream",
     "text": [
      "\n",
      "Dates and Dividends for Microsoft:\n"
     ]
    },
    {
     "data": {
      "text/html": [
       "<table>\n",
       "<thead><tr><th scope=col>Dates</th><th scope=col>Dividends</th></tr></thead>\n",
       "<tbody>\n",
       "\t<tr><td>2018-02-14</td><td>0.398     </td></tr>\n",
       "\t<tr><td>2018-05-16</td><td>0.372     </td></tr>\n",
       "\t<tr><td>2018-08-15</td><td>0.335     </td></tr>\n",
       "\t<tr><td>2018-11-14</td><td>0.377     </td></tr>\n",
       "</tbody>\n",
       "</table>\n"
      ],
      "text/latex": [
       "\\begin{tabular}{r|ll}\n",
       " Dates & Dividends\\\\\n",
       "\\hline\n",
       "\t 2018-02-14 & 0.398     \\\\\n",
       "\t 2018-05-16 & 0.372     \\\\\n",
       "\t 2018-08-15 & 0.335     \\\\\n",
       "\t 2018-11-14 & 0.377     \\\\\n",
       "\\end{tabular}\n"
      ],
      "text/markdown": [
       "\n",
       "| Dates | Dividends |\n",
       "|---|---|\n",
       "| 2018-02-14 | 0.398      |\n",
       "| 2018-05-16 | 0.372      |\n",
       "| 2018-08-15 | 0.335      |\n",
       "| 2018-11-14 | 0.377      |\n",
       "\n"
      ],
      "text/plain": [
       "  Dates      Dividends\n",
       "1 2018-02-14 0.398    \n",
       "2 2018-05-16 0.372    \n",
       "3 2018-08-15 0.335    \n",
       "4 2018-11-14 0.377    "
      ]
     },
     "metadata": {},
     "output_type": "display_data"
    }
   ],
   "source": [
    "#Dates and Dividends for Microsoft\n",
    "\n",
    "msftClose = msftData['Date']\n",
    "msftClose[] <- lapply(msftClose, as.character)\n",
    "\n",
    "#adjusted close prices without the last element\n",
    "msftClose1 = msftData[['Adj.Close']]\n",
    "msftClose1 = msftClose1[(length(msftClose1) * -1)]\n",
    "\n",
    "#adjusted close prices without the first element\n",
    "msftClose2 = msftData[['Adj.Close']]\n",
    "msftClose2 = msftClose2[-1]\n",
    "\n",
    "#ratio of adjusted close prices\n",
    "msftresult1 = msftClose1/msftClose2\n",
    "\n",
    "#close prices without the last element\n",
    "msftClose1 = msftData[['Close']]\n",
    "msftClose1 = msftClose1[(length(msftClose1) * -1)]\n",
    "\n",
    "#close prices without the first element\n",
    "msftClose2 = msftData[['Close']]\n",
    "msftClose2 = msftClose2[-1]\n",
    "\n",
    "#ratio of close prices\n",
    "msftresult2 = msftClose1/msftClose2\n",
    "\n",
    "msftDates = c()\n",
    "msftDividends = c()\n",
    "for (i in 1:length(msftresult1)){\n",
    "    diff = msftresult1[i] - msftresult2[i]\n",
    "    if(signif(msftresult1[i], digits=3)!=signif(msftresult2[i], digits=3)){\n",
    "          msftDates = c(msftDates, msftClose[(i+1),])\n",
    "          dividend = diff * msftData[['Close']][1]\n",
    "          dividend = abs(signif(dividend, digits = 3))\n",
    "          msftDividends = c(msftDividends,dividend)\n",
    "    }\n",
    "}\n",
    "\n",
    "if(length(msftDividends)==0){\n",
    "    print(\"No Dividends for Microsoft\")\n",
    "}else{\n",
    "    msftDividends = data.frame(msftDates, msftDividends)\n",
    "    colnames(msftDividends) = c(\"Dates\",\"Dividends\")\n",
    "\n",
    "    cat(\"\\n\")\n",
    "    cat(\"Dates and Dividends for Microsoft:\")\n",
    "    cat(\"\\n\")\n",
    "    msftDividends\n",
    "}"
   ]
  },
  {
   "cell_type": "code",
   "execution_count": 8,
   "metadata": {
    "scrolled": true
   },
   "outputs": [
    {
     "name": "stdout",
     "output_type": "stream",
     "text": [
      "\n",
      "Dates and Dividends for Apple:\n"
     ]
    },
    {
     "data": {
      "text/html": [
       "<table>\n",
       "<thead><tr><th scope=col>Dates</th><th scope=col>Dividends</th></tr></thead>\n",
       "<tbody>\n",
       "\t<tr><td>2018-02-09</td><td>0.694     </td></tr>\n",
       "\t<tr><td>2018-05-11</td><td>0.667     </td></tr>\n",
       "\t<tr><td>2018-08-10</td><td>0.606     </td></tr>\n",
       "\t<tr><td>2018-11-08</td><td>0.603     </td></tr>\n",
       "</tbody>\n",
       "</table>\n"
      ],
      "text/latex": [
       "\\begin{tabular}{r|ll}\n",
       " Dates & Dividends\\\\\n",
       "\\hline\n",
       "\t 2018-02-09 & 0.694     \\\\\n",
       "\t 2018-05-11 & 0.667     \\\\\n",
       "\t 2018-08-10 & 0.606     \\\\\n",
       "\t 2018-11-08 & 0.603     \\\\\n",
       "\\end{tabular}\n"
      ],
      "text/markdown": [
       "\n",
       "| Dates | Dividends |\n",
       "|---|---|\n",
       "| 2018-02-09 | 0.694      |\n",
       "| 2018-05-11 | 0.667      |\n",
       "| 2018-08-10 | 0.606      |\n",
       "| 2018-11-08 | 0.603      |\n",
       "\n"
      ],
      "text/plain": [
       "  Dates      Dividends\n",
       "1 2018-02-09 0.694    \n",
       "2 2018-05-11 0.667    \n",
       "3 2018-08-10 0.606    \n",
       "4 2018-11-08 0.603    "
      ]
     },
     "metadata": {},
     "output_type": "display_data"
    }
   ],
   "source": [
    "#Dates and Dividends for Apple\n",
    "\n",
    "aaplClose = aaplData['Date']\n",
    "aaplClose[] <- lapply(aaplClose, as.character)\n",
    "\n",
    "#adjusted close prices without the last element\n",
    "aaplClose1 = aaplData[['Adj.Close']]\n",
    "aaplClose1 = aaplClose1[(length(aaplClose1) * -1)]\n",
    "\n",
    "#adjusted close prices without the first element\n",
    "aaplClose2 = aaplData[['Adj.Close']]\n",
    "aaplClose2 = aaplClose2[-1]\n",
    "\n",
    "#ratio of adjusted close prices\n",
    "aaplresult1 = aaplClose1/aaplClose2\n",
    "\n",
    "#close prices without the last element\n",
    "aaplClose1 = aaplData[['Close']]\n",
    "aaplClose1 = aaplClose1[(length(aaplClose1) * -1)]\n",
    "\n",
    "#close prices without the first element\n",
    "aaplClose2 = aaplData[['Close']]\n",
    "aaplClose2 = aaplClose2[-1]\n",
    "\n",
    "#ratio of close prices\n",
    "aaplresult2 = aaplClose1/aaplClose2\n",
    "\n",
    "aaplDates = c()\n",
    "aaplDividends = c()\n",
    "for (i in 1:length(aaplresult1)){\n",
    "    diff = aaplresult1[i] - aaplresult2[i]\n",
    "    if(signif(aaplresult1[i], digits=3)!=signif(aaplresult2[i], digits=3)){\n",
    "          aaplDates = c(aaplDates, aaplClose[(i+1),])\n",
    "          dividend = diff * aaplData[['Close']][1]\n",
    "          dividend = abs(signif(dividend, digits = 3))\n",
    "          aaplDividends = c(aaplDividends,dividend)\n",
    "    }\n",
    "}\n",
    "\n",
    "if(length(aaplDividends)==0){\n",
    "    print(\"No Dividends for Apple\")\n",
    "}else{\n",
    "    aaplDividends = data.frame(aaplDates, aaplDividends)\n",
    "    colnames(aaplDividends) = c(\"Dates\",\"Dividends\")\n",
    "\n",
    "    cat(\"\\n\")\n",
    "    cat(\"Dates and Dividends for Apple:\")\n",
    "    cat(\"\\n\")\n",
    "    aaplDividends\n",
    "}"
   ]
  },
  {
   "cell_type": "markdown",
   "metadata": {},
   "source": [
    "## Part 2: Summary for Dividend Calculation and Determined Date"
   ]
  },
  {
   "cell_type": "code",
   "execution_count": 9,
   "metadata": {},
   "outputs": [
    {
     "name": "stdout",
     "output_type": "stream",
     "text": [
      "\n",
      "SUMMARY:\n",
      "\n",
      "Dates and Dividends for IBM:\n"
     ]
    },
    {
     "data": {
      "text/html": [
       "<table>\n",
       "<thead><tr><th scope=col>Dates</th><th scope=col>Dividends</th></tr></thead>\n",
       "<tbody>\n",
       "\t<tr><td>2018-02-08</td><td>1.57      </td></tr>\n",
       "\t<tr><td>2018-05-09</td><td>1.70      </td></tr>\n",
       "\t<tr><td>2018-08-09</td><td>1.67      </td></tr>\n",
       "\t<tr><td>2018-11-08</td><td>1.96      </td></tr>\n",
       "</tbody>\n",
       "</table>\n"
      ],
      "text/latex": [
       "\\begin{tabular}{r|ll}\n",
       " Dates & Dividends\\\\\n",
       "\\hline\n",
       "\t 2018-02-08 & 1.57      \\\\\n",
       "\t 2018-05-09 & 1.70      \\\\\n",
       "\t 2018-08-09 & 1.67      \\\\\n",
       "\t 2018-11-08 & 1.96      \\\\\n",
       "\\end{tabular}\n"
      ],
      "text/markdown": [
       "\n",
       "| Dates | Dividends |\n",
       "|---|---|\n",
       "| 2018-02-08 | 1.57       |\n",
       "| 2018-05-09 | 1.70       |\n",
       "| 2018-08-09 | 1.67       |\n",
       "| 2018-11-08 | 1.96       |\n",
       "\n"
      ],
      "text/plain": [
       "  Dates      Dividends\n",
       "1 2018-02-08 1.57     \n",
       "2 2018-05-09 1.70     \n",
       "3 2018-08-09 1.67     \n",
       "4 2018-11-08 1.96     "
      ]
     },
     "metadata": {},
     "output_type": "display_data"
    },
    {
     "name": "stdout",
     "output_type": "stream",
     "text": [
      "[1] \"No Dividends for Google\"\n",
      "[1] \"No Dividends for Facebook\"\n",
      "[1] \"No Dividends for Amazon\"\n",
      "\n",
      "Dates and Dividends for Microsoft:\n"
     ]
    },
    {
     "data": {
      "text/html": [
       "<table>\n",
       "<thead><tr><th scope=col>Dates</th><th scope=col>Dividends</th></tr></thead>\n",
       "<tbody>\n",
       "\t<tr><td>2018-02-14</td><td>0.398     </td></tr>\n",
       "\t<tr><td>2018-05-16</td><td>0.372     </td></tr>\n",
       "\t<tr><td>2018-08-15</td><td>0.335     </td></tr>\n",
       "\t<tr><td>2018-11-14</td><td>0.377     </td></tr>\n",
       "</tbody>\n",
       "</table>\n"
      ],
      "text/latex": [
       "\\begin{tabular}{r|ll}\n",
       " Dates & Dividends\\\\\n",
       "\\hline\n",
       "\t 2018-02-14 & 0.398     \\\\\n",
       "\t 2018-05-16 & 0.372     \\\\\n",
       "\t 2018-08-15 & 0.335     \\\\\n",
       "\t 2018-11-14 & 0.377     \\\\\n",
       "\\end{tabular}\n"
      ],
      "text/markdown": [
       "\n",
       "| Dates | Dividends |\n",
       "|---|---|\n",
       "| 2018-02-14 | 0.398      |\n",
       "| 2018-05-16 | 0.372      |\n",
       "| 2018-08-15 | 0.335      |\n",
       "| 2018-11-14 | 0.377      |\n",
       "\n"
      ],
      "text/plain": [
       "  Dates      Dividends\n",
       "1 2018-02-14 0.398    \n",
       "2 2018-05-16 0.372    \n",
       "3 2018-08-15 0.335    \n",
       "4 2018-11-14 0.377    "
      ]
     },
     "metadata": {},
     "output_type": "display_data"
    },
    {
     "name": "stdout",
     "output_type": "stream",
     "text": [
      "\n",
      "Dates and Dividends for Apple:\n"
     ]
    },
    {
     "data": {
      "text/html": [
       "<table>\n",
       "<thead><tr><th scope=col>Dates</th><th scope=col>Dividends</th></tr></thead>\n",
       "<tbody>\n",
       "\t<tr><td>2018-02-09</td><td>0.694     </td></tr>\n",
       "\t<tr><td>2018-05-11</td><td>0.667     </td></tr>\n",
       "\t<tr><td>2018-08-10</td><td>0.606     </td></tr>\n",
       "\t<tr><td>2018-11-08</td><td>0.603     </td></tr>\n",
       "</tbody>\n",
       "</table>\n"
      ],
      "text/latex": [
       "\\begin{tabular}{r|ll}\n",
       " Dates & Dividends\\\\\n",
       "\\hline\n",
       "\t 2018-02-09 & 0.694     \\\\\n",
       "\t 2018-05-11 & 0.667     \\\\\n",
       "\t 2018-08-10 & 0.606     \\\\\n",
       "\t 2018-11-08 & 0.603     \\\\\n",
       "\\end{tabular}\n"
      ],
      "text/markdown": [
       "\n",
       "| Dates | Dividends |\n",
       "|---|---|\n",
       "| 2018-02-09 | 0.694      |\n",
       "| 2018-05-11 | 0.667      |\n",
       "| 2018-08-10 | 0.606      |\n",
       "| 2018-11-08 | 0.603      |\n",
       "\n"
      ],
      "text/plain": [
       "  Dates      Dividends\n",
       "1 2018-02-09 0.694    \n",
       "2 2018-05-11 0.667    \n",
       "3 2018-08-10 0.606    \n",
       "4 2018-11-08 0.603    "
      ]
     },
     "metadata": {},
     "output_type": "display_data"
    }
   ],
   "source": [
    "#Overall Summary for Part 2\n",
    "\n",
    "cat(\"\\n\")\n",
    "cat(\"SUMMARY:\")\n",
    "cat(\"\\n\")\n",
    "\n",
    "if(length(ibmDividends)==0){\n",
    "    print(\"No Dividends for IBM\")\n",
    "}else{\n",
    "    cat(\"\\n\")\n",
    "    cat(\"Dates and Dividends for IBM:\")\n",
    "    cat(\"\\n\")\n",
    "    ibmDividends\n",
    "}\n",
    "if(length(googDividends)==0){\n",
    "    print(\"No Dividends for Google\")\n",
    "}else{\n",
    "    cat(\"\\n\")\n",
    "    cat(\"Dates and Dividends for Google:\")\n",
    "    cat(\"\\n\")\n",
    "    googDividends\n",
    "}\n",
    "if(length(fbDividends)==0){\n",
    "    print(\"No Dividends for Facebook\")\n",
    "}else{\n",
    "    cat(\"\\n\")\n",
    "    cat(\"Dates and Dividends for Facebook:\")\n",
    "    cat(\"\\n\")\n",
    "    fbDividends\n",
    "}\n",
    "\n",
    "if(length(amznDividends)==0){\n",
    "    print(\"No Dividends for Amazon\")\n",
    "}else{\n",
    "    cat(\"\\n\")\n",
    "    cat(\"Dates and Dividends for Amazon:\")\n",
    "    cat(\"\\n\")\n",
    "    amznDividends\n",
    "}\n",
    "\n",
    "if(length(msftDividends)==0){\n",
    "    print(\"No Dividends for Microsoft\")\n",
    "}else{\n",
    "    cat(\"\\n\")\n",
    "    cat(\"Dates and Dividends for Microsoft:\")\n",
    "    cat(\"\\n\")\n",
    "    msftDividends\n",
    "}\n",
    "\n",
    "if(length(aaplDividends)==0){\n",
    "    print(\"No Dividends for Apple\")\n",
    "}else{\n",
    "    cat(\"\\n\")\n",
    "    cat(\"Dates and Dividends for Apple:\")\n",
    "    cat(\"\\n\")\n",
    "    aaplDividends\n",
    "}"
   ]
  }
 ],
 "metadata": {
  "kernelspec": {
   "display_name": "R",
   "language": "R",
   "name": "ir"
  },
  "language_info": {
   "codemirror_mode": "r",
   "file_extension": ".r",
   "mimetype": "text/x-r-source",
   "name": "R",
   "pygments_lexer": "r",
   "version": "3.6.1"
  }
 },
 "nbformat": 4,
 "nbformat_minor": 4
}
